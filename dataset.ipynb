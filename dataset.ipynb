{
 "cells": [
  {
   "cell_type": "code",
   "execution_count": 3,
   "metadata": {
    "tags": []
   },
   "outputs": [
    {
     "ename": "ModuleNotFoundError",
     "evalue": "No module named 'autoreload #jupyter notebook magic command for autoreload extension'",
     "output_type": "error",
     "traceback": [
      "\u001b[0;31m---------------------------------------------------------------------------\u001b[0m",
      "\u001b[0;31mModuleNotFoundError\u001b[0m                       Traceback (most recent call last)",
      "Cell \u001b[0;32mIn[3], line 1\u001b[0m\n\u001b[0;32m----> 1\u001b[0m \u001b[43mget_ipython\u001b[49m\u001b[43m(\u001b[49m\u001b[43m)\u001b[49m\u001b[38;5;241;43m.\u001b[39;49m\u001b[43mrun_line_magic\u001b[49m\u001b[43m(\u001b[49m\u001b[38;5;124;43m'\u001b[39;49m\u001b[38;5;124;43mload_ext\u001b[39;49m\u001b[38;5;124;43m'\u001b[39;49m\u001b[43m,\u001b[49m\u001b[43m \u001b[49m\u001b[38;5;124;43m'\u001b[39;49m\u001b[38;5;124;43mautoreload #jupyter notebook magic command for autoreload extension\u001b[39;49m\u001b[38;5;124;43m'\u001b[39;49m\u001b[43m)\u001b[49m\n\u001b[1;32m      2\u001b[0m get_ipython()\u001b[38;5;241m.\u001b[39mrun_line_magic(\u001b[38;5;124m'\u001b[39m\u001b[38;5;124mautoreload\u001b[39m\u001b[38;5;124m'\u001b[39m, \u001b[38;5;124m'\u001b[39m\u001b[38;5;124m2   #makes python automatically reload all imported module before every cell execution\u001b[39m\u001b[38;5;124m'\u001b[39m)\n\u001b[1;32m      4\u001b[0m \u001b[38;5;28;01mimport\u001b[39;00m\u001b[38;5;250m \u001b[39m\u001b[38;5;21;01mpandas\u001b[39;00m\u001b[38;5;250m \u001b[39m\u001b[38;5;28;01mas\u001b[39;00m\u001b[38;5;250m \u001b[39m\u001b[38;5;21;01mpd\u001b[39;00m \u001b[38;5;66;03m#table,csv file\u001b[39;00m\n",
      "File \u001b[0;32m/opt/conda/lib/python3.10/site-packages/IPython/core/interactiveshell.py:2456\u001b[0m, in \u001b[0;36mInteractiveShell.run_line_magic\u001b[0;34m(self, magic_name, line, _stack_depth)\u001b[0m\n\u001b[1;32m   2454\u001b[0m     kwargs[\u001b[38;5;124m'\u001b[39m\u001b[38;5;124mlocal_ns\u001b[39m\u001b[38;5;124m'\u001b[39m] \u001b[38;5;241m=\u001b[39m \u001b[38;5;28mself\u001b[39m\u001b[38;5;241m.\u001b[39mget_local_scope(stack_depth)\n\u001b[1;32m   2455\u001b[0m \u001b[38;5;28;01mwith\u001b[39;00m \u001b[38;5;28mself\u001b[39m\u001b[38;5;241m.\u001b[39mbuiltin_trap:\n\u001b[0;32m-> 2456\u001b[0m     result \u001b[38;5;241m=\u001b[39m \u001b[43mfn\u001b[49m\u001b[43m(\u001b[49m\u001b[38;5;241;43m*\u001b[39;49m\u001b[43margs\u001b[49m\u001b[43m,\u001b[49m\u001b[43m \u001b[49m\u001b[38;5;241;43m*\u001b[39;49m\u001b[38;5;241;43m*\u001b[39;49m\u001b[43mkwargs\u001b[49m\u001b[43m)\u001b[49m\n\u001b[1;32m   2458\u001b[0m \u001b[38;5;66;03m# The code below prevents the output from being displayed\u001b[39;00m\n\u001b[1;32m   2459\u001b[0m \u001b[38;5;66;03m# when using magics with decorator @output_can_be_silenced\u001b[39;00m\n\u001b[1;32m   2460\u001b[0m \u001b[38;5;66;03m# when the last Python token in the expression is a ';'.\u001b[39;00m\n\u001b[1;32m   2461\u001b[0m \u001b[38;5;28;01mif\u001b[39;00m \u001b[38;5;28mgetattr\u001b[39m(fn, magic\u001b[38;5;241m.\u001b[39mMAGIC_OUTPUT_CAN_BE_SILENCED, \u001b[38;5;28;01mFalse\u001b[39;00m):\n",
      "File \u001b[0;32m/opt/conda/lib/python3.10/site-packages/IPython/core/magics/extension.py:33\u001b[0m, in \u001b[0;36mExtensionMagics.load_ext\u001b[0;34m(self, module_str)\u001b[0m\n\u001b[1;32m     31\u001b[0m \u001b[38;5;28;01mif\u001b[39;00m \u001b[38;5;129;01mnot\u001b[39;00m module_str:\n\u001b[1;32m     32\u001b[0m     \u001b[38;5;28;01mraise\u001b[39;00m UsageError(\u001b[38;5;124m'\u001b[39m\u001b[38;5;124mMissing module name.\u001b[39m\u001b[38;5;124m'\u001b[39m)\n\u001b[0;32m---> 33\u001b[0m res \u001b[38;5;241m=\u001b[39m \u001b[38;5;28;43mself\u001b[39;49m\u001b[38;5;241;43m.\u001b[39;49m\u001b[43mshell\u001b[49m\u001b[38;5;241;43m.\u001b[39;49m\u001b[43mextension_manager\u001b[49m\u001b[38;5;241;43m.\u001b[39;49m\u001b[43mload_extension\u001b[49m\u001b[43m(\u001b[49m\u001b[43mmodule_str\u001b[49m\u001b[43m)\u001b[49m\n\u001b[1;32m     35\u001b[0m \u001b[38;5;28;01mif\u001b[39;00m res \u001b[38;5;241m==\u001b[39m \u001b[38;5;124m'\u001b[39m\u001b[38;5;124malready loaded\u001b[39m\u001b[38;5;124m'\u001b[39m:\n\u001b[1;32m     36\u001b[0m     \u001b[38;5;28mprint\u001b[39m(\u001b[38;5;124m\"\u001b[39m\u001b[38;5;124mThe \u001b[39m\u001b[38;5;132;01m%s\u001b[39;00m\u001b[38;5;124m extension is already loaded. To reload it, use:\u001b[39m\u001b[38;5;124m\"\u001b[39m \u001b[38;5;241m%\u001b[39m module_str)\n",
      "File \u001b[0;32m/opt/conda/lib/python3.10/site-packages/IPython/core/extensions.py:62\u001b[0m, in \u001b[0;36mExtensionManager.load_extension\u001b[0;34m(self, module_str)\u001b[0m\n\u001b[1;32m     55\u001b[0m \u001b[38;5;250m\u001b[39m\u001b[38;5;124;03m\"\"\"Load an IPython extension by its module name.\u001b[39;00m\n\u001b[1;32m     56\u001b[0m \n\u001b[1;32m     57\u001b[0m \u001b[38;5;124;03mReturns the string \"already loaded\" if the extension is already loaded,\u001b[39;00m\n\u001b[1;32m     58\u001b[0m \u001b[38;5;124;03m\"no load function\" if the module doesn't have a load_ipython_extension\u001b[39;00m\n\u001b[1;32m     59\u001b[0m \u001b[38;5;124;03mfunction, or None if it succeeded.\u001b[39;00m\n\u001b[1;32m     60\u001b[0m \u001b[38;5;124;03m\"\"\"\u001b[39;00m\n\u001b[1;32m     61\u001b[0m \u001b[38;5;28;01mtry\u001b[39;00m:\n\u001b[0;32m---> 62\u001b[0m     \u001b[38;5;28;01mreturn\u001b[39;00m \u001b[38;5;28;43mself\u001b[39;49m\u001b[38;5;241;43m.\u001b[39;49m\u001b[43m_load_extension\u001b[49m\u001b[43m(\u001b[49m\u001b[43mmodule_str\u001b[49m\u001b[43m)\u001b[49m\n\u001b[1;32m     63\u001b[0m \u001b[38;5;28;01mexcept\u001b[39;00m \u001b[38;5;167;01mModuleNotFoundError\u001b[39;00m:\n\u001b[1;32m     64\u001b[0m     \u001b[38;5;28;01mif\u001b[39;00m module_str \u001b[38;5;129;01min\u001b[39;00m BUILTINS_EXTS:\n",
      "File \u001b[0;32m/opt/conda/lib/python3.10/site-packages/IPython/core/extensions.py:77\u001b[0m, in \u001b[0;36mExtensionManager._load_extension\u001b[0;34m(self, module_str)\u001b[0m\n\u001b[1;32m     75\u001b[0m \u001b[38;5;28;01mwith\u001b[39;00m \u001b[38;5;28mself\u001b[39m\u001b[38;5;241m.\u001b[39mshell\u001b[38;5;241m.\u001b[39mbuiltin_trap:\n\u001b[1;32m     76\u001b[0m     \u001b[38;5;28;01mif\u001b[39;00m module_str \u001b[38;5;129;01mnot\u001b[39;00m \u001b[38;5;129;01min\u001b[39;00m sys\u001b[38;5;241m.\u001b[39mmodules:\n\u001b[0;32m---> 77\u001b[0m         mod \u001b[38;5;241m=\u001b[39m \u001b[43mimport_module\u001b[49m\u001b[43m(\u001b[49m\u001b[43mmodule_str\u001b[49m\u001b[43m)\u001b[49m\n\u001b[1;32m     78\u001b[0m     mod \u001b[38;5;241m=\u001b[39m sys\u001b[38;5;241m.\u001b[39mmodules[module_str]\n\u001b[1;32m     79\u001b[0m     \u001b[38;5;28;01mif\u001b[39;00m \u001b[38;5;28mself\u001b[39m\u001b[38;5;241m.\u001b[39m_call_load_ipython_extension(mod):\n",
      "File \u001b[0;32m/opt/conda/lib/python3.10/importlib/__init__.py:126\u001b[0m, in \u001b[0;36mimport_module\u001b[0;34m(name, package)\u001b[0m\n\u001b[1;32m    124\u001b[0m             \u001b[38;5;28;01mbreak\u001b[39;00m\n\u001b[1;32m    125\u001b[0m         level \u001b[38;5;241m+\u001b[39m\u001b[38;5;241m=\u001b[39m \u001b[38;5;241m1\u001b[39m\n\u001b[0;32m--> 126\u001b[0m \u001b[38;5;28;01mreturn\u001b[39;00m \u001b[43m_bootstrap\u001b[49m\u001b[38;5;241;43m.\u001b[39;49m\u001b[43m_gcd_import\u001b[49m\u001b[43m(\u001b[49m\u001b[43mname\u001b[49m\u001b[43m[\u001b[49m\u001b[43mlevel\u001b[49m\u001b[43m:\u001b[49m\u001b[43m]\u001b[49m\u001b[43m,\u001b[49m\u001b[43m \u001b[49m\u001b[43mpackage\u001b[49m\u001b[43m,\u001b[49m\u001b[43m \u001b[49m\u001b[43mlevel\u001b[49m\u001b[43m)\u001b[49m\n",
      "File \u001b[0;32m<frozen importlib._bootstrap>:1050\u001b[0m, in \u001b[0;36m_gcd_import\u001b[0;34m(name, package, level)\u001b[0m\n",
      "File \u001b[0;32m<frozen importlib._bootstrap>:1027\u001b[0m, in \u001b[0;36m_find_and_load\u001b[0;34m(name, import_)\u001b[0m\n",
      "File \u001b[0;32m<frozen importlib._bootstrap>:1004\u001b[0m, in \u001b[0;36m_find_and_load_unlocked\u001b[0;34m(name, import_)\u001b[0m\n",
      "\u001b[0;31mModuleNotFoundError\u001b[0m: No module named 'autoreload #jupyter notebook magic command for autoreload extension'"
     ]
    }
   ],
   "source": [
    "%load_ext autoreload  #jupyter notebook magic command for autoreload extension\n",
    "%autoreload 2   #makes python automatically reload all imported module before every cell execution\n",
    "\n",
    "import pandas as pd #table,csv file\n",
    "import json  \n",
    "import numpy as np #math operation\n",
    "from pathlib import Path # class that helps with file paths"
   ]
  },
  {
   "cell_type": "code",
   "execution_count": 1,
   "metadata": {
    "tags": []
   },
   "outputs": [
    {
     "ename": "NameError",
     "evalue": "name 'pd' is not defined",
     "output_type": "error",
     "traceback": [
      "\u001b[0;31m---------------------------------------------------------------------------\u001b[0m",
      "\u001b[0;31mNameError\u001b[0m                                 Traceback (most recent call last)",
      "Cell \u001b[0;32mIn[1], line 3\u001b[0m\n\u001b[1;32m      1\u001b[0m tmp_str \u001b[38;5;241m=\u001b[39m \u001b[38;5;124m'\u001b[39m\u001b[38;5;124m/nfs/turbo/coe-vvh/ljr/Censorship/data/dataset_test_uniq.csv\u001b[39m\u001b[38;5;124m'\u001b[39m\n\u001b[1;32m      2\u001b[0m \u001b[38;5;66;03m#CHANGE THIS TO ACTUAL DATA PATH ->test dataset location\u001b[39;00m\n\u001b[0;32m----> 3\u001b[0m df \u001b[38;5;241m=\u001b[39m \u001b[43mpd\u001b[49m\u001b[38;5;241m.\u001b[39mread_csv(tmp_str, engine\u001b[38;5;241m=\u001b[39m\u001b[38;5;124m'\u001b[39m\u001b[38;5;124mpython\u001b[39m\u001b[38;5;124m'\u001b[39m, index_col\u001b[38;5;241m=\u001b[39m\u001b[38;5;241m0\u001b[39m)\u001b[38;5;66;03m#reads csv file into dataframe called df(like table)\u001b[39;00m\n\u001b[1;32m      4\u001b[0m df[\u001b[38;5;124m'\u001b[39m\u001b[38;5;124mwithheld\u001b[39m\u001b[38;5;124m'\u001b[39m]\u001b[38;5;241m.\u001b[39mvalue_counts()\u001b[38;5;241m.\u001b[39mvalues \u001b[38;5;66;03m# select withheld col and count #of unique value appearance and return\u001b[39;00m\n",
      "\u001b[0;31mNameError\u001b[0m: name 'pd' is not defined"
     ]
    }
   ],
   "source": [
    "tmp_str = '/nfs/turbo/coe-vvh/ljr/Censorship/data/dataset_test_uniq.csv'\n",
    "#CHANGE THIS TO ACTUAL DATA PATH ->test dataset location\n",
    "df = pd.read_csv(tmp_str, engine='python', index_col=0)#reads csv file into dataframe called df(like table)\n",
    "df['withheld'].value_counts().values # select withheld col and count #of unique value appearance and return\n"
   ]
  },
  {
   "cell_type": "code",
   "execution_count": 7,
   "metadata": {},
   "outputs": [],
   "source": [
    "censored = []\n",
    "for _, row in df.iterrows():\n",
    "    if type(row['withheld']) == float:\n",
    "        censored.append(0)\n",
    "    else:\n",
    "        censored.append(1)\n",
    "df['censored'] = censored\n",
    "df.to_csv(tmp_str)"
   ]
  },
  {
   "cell_type": "markdown",
   "metadata": {},
   "source": [
    "# select en text"
   ]
  },
  {
   "cell_type": "code",
   "execution_count": 12,
   "metadata": {},
   "outputs": [
    {
     "ename": "",
     "evalue": "",
     "output_type": "error",
     "traceback": [
      "\u001b[1;31mThe Kernel crashed while executing code in the the current cell or a previous cell. Please review the code in the cell(s) to identify a possible cause of the failure. Click <a href='https://aka.ms/vscodeJupyterKernelCrash'>here</a> for more info. View Jupyter <a href='command:jupyter.viewOutput'>log</a> for further details."
     ]
    }
   ],
   "source": [
    "'''\n",
    "tmp_str = '/nfs/turbo/coe-vvh/ljr/Censorship/data/v_0305/dataset_train_p.csv' #loads training dataset\n",
    "df = pd.read_csv(tmp_str, engine='python', index_col=0)\n",
    "df_new = df.loc[df['lang'] == 'en']\n",
    "df_new.to_csv(tmp_str[:-4] + '_en.csv')\n",
    "\n",
    "train_en.csv directly available in data folder\n",
    "\n",
    "'''"
   ]
  },
  {
   "cell_type": "markdown",
   "metadata": {},
   "source": [
    "# others"
   ]
  },
  {
   "cell_type": "code",
   "execution_count": 5,
   "metadata": {},
   "outputs": [
    {
     "name": "stderr",
     "output_type": "stream",
     "text": [
      "/tmp/ipykernel_8028/1081554479.py:7: DtypeWarning: Columns (8) have mixed types. Specify dtype option on import or set low_memory=False.\n",
      "  df_train = pd.read_csv('/cluster/project/sachan/jiarliu/censorship/data/dataset_train.csv', index_col=0)\n"
     ]
    }
   ],
   "source": [
    "def sep_df(df):\n",
    "    df_tr = df.loc[df['lang'] == 'tr']\n",
    "    df_others = df.loc[df['lang'] != 'tr']\n",
    "    return df_tr, df_others\n",
    "\n",
    "\n",
    "df_train = pd.read_csv('/cluster/project/sachan/jiarliu/censorship/data/dataset_train.csv', index_col=0)\n",
    "df_val = pd.read_csv('/cluster/project/sachan/jiarliu/censorship/data/dataset_val.csv', index_col=0)\n",
    "df_test = pd.read_csv('/cluster/project/sachan/jiarliu/censorship/data/dataset_test.csv', index_col=0)\n",
    "\n",
    "df_train_tr, df_train_others = sep_df(df_train)\n",
    "df_val_tr, df_val_others = sep_df(df_val)\n",
    "df_test_tr, df_test_others = sep_df(df_test)\n",
    "\n",
    "df_train_tr.to_csv('/cluster/project/sachan/jiarliu/censorship/data/turkish/train.csv')\n",
    "df_val_tr.to_csv('/cluster/project/sachan/jiarliu/censorship/data/turkish/val.csv')\n",
    "df_test_tr.to_csv('/cluster/project/sachan/jiarliu/censorship/data/turkish/test.csv')\n",
    "df_train_others.to_csv('/cluster/project/sachan/jiarliu/censorship/data/others/train.csv')\n",
    "df_val_others.to_csv('/cluster/project/sachan/jiarliu/censorship/data/others/val.csv')\n",
    "df_test_others.to_csv('/cluster/project/sachan/jiarliu/censorship/data/others/test.csv')"
   ]
  },
  {
   "cell_type": "code",
   "execution_count": 2,
   "metadata": {},
   "outputs": [
    {
     "name": "stderr",
     "output_type": "stream",
     "text": [
      "/tmp/ipykernel_8028/2173332577.py:1: DtypeWarning: Columns (6,7) have mixed types. Specify dtype option on import or set low_memory=False.\n",
      "  df = pd.read_csv('/cluster/project/sachan/jiarliu/censorship/data/dataset_full.csv')\n"
     ]
    }
   ],
   "source": [
    "df = pd.read_csv('/cluster/project/sachan/jiarliu/censorship/data/dataset_full.csv')"
   ]
  },
  {
   "cell_type": "code",
   "execution_count": 9,
   "metadata": {},
   "outputs": [],
   "source": [
    "df.drop(columns=['Unnamed: 0.1', 'Unnamed: 0'], inplace=True)"
   ]
  },
  {
   "cell_type": "code",
   "execution_count": 4,
   "metadata": {},
   "outputs": [
    {
     "data": {
      "text/plain": [
       "en                                                                             291262\n",
       "tr                                                                             153771\n",
       "es                                                                              24935\n",
       "zxx                                                                             15536\n",
       "ar                                                                              12373\n",
       "                                                                                ...  \n",
       "{'retweet_count': 22, 'reply_count': 1, 'like_count': 3, 'quote_count': 0}          1\n",
       "{'retweet_count': 12, 'reply_count': 3, 'like_count': 5, 'quote_count': 0}          1\n",
       "am                                                                                  1\n",
       "{'retweet_count': 9, 'reply_count': 0, 'like_count': 0, 'quote_count': 0}           1\n",
       "{'retweet_count': 51, 'reply_count': 8, 'like_count': 10, 'quote_count': 0}         1\n",
       "Name: lang, Length: 113, dtype: int64"
      ]
     },
     "execution_count": 4,
     "metadata": {},
     "output_type": "execute_result"
    }
   ],
   "source": [
    "df['lang'].value_counts()"
   ]
  },
  {
   "cell_type": "code",
   "execution_count": 7,
   "metadata": {},
   "outputs": [],
   "source": [
    "def eval_wrapper(row):\n",
    "    # print(row)\n",
    "    if type(row) == float and np.isnan(row):\n",
    "        return row\n",
    "    row = eval(row)\n",
    "    return row\n",
    "tmp = df['public_metrics'].apply(lambda row: eval_wrapper(row))"
   ]
  },
  {
   "cell_type": "code",
   "execution_count": 10,
   "metadata": {},
   "outputs": [
    {
     "data": {
      "text/html": [
       "<div>\n",
       "<style scoped>\n",
       "    .dataframe tbody tr th:only-of-type {\n",
       "        vertical-align: middle;\n",
       "    }\n",
       "\n",
       "    .dataframe tbody tr th {\n",
       "        vertical-align: top;\n",
       "    }\n",
       "\n",
       "    .dataframe thead th {\n",
       "        text-align: right;\n",
       "    }\n",
       "</style>\n",
       "<table border=\"1\" class=\"dataframe\">\n",
       "  <thead>\n",
       "    <tr style=\"text-align: right;\">\n",
       "      <th></th>\n",
       "      <th>Unnamed: 0</th>\n",
       "      <th>public_metrics</th>\n",
       "      <th>edit_history_tweet_ids</th>\n",
       "      <th>entities</th>\n",
       "      <th>lang</th>\n",
       "      <th>created_at</th>\n",
       "      <th>possibly_sensitive</th>\n",
       "      <th>id</th>\n",
       "      <th>text</th>\n",
       "      <th>author_id</th>\n",
       "      <th>withheld</th>\n",
       "      <th>geo</th>\n",
       "      <th>censored</th>\n",
       "      <th>retweet_count</th>\n",
       "      <th>reply_count</th>\n",
       "      <th>like_count</th>\n",
       "      <th>quote_count</th>\n",
       "    </tr>\n",
       "  </thead>\n",
       "  <tbody>\n",
       "    <tr>\n",
       "      <th>0</th>\n",
       "      <td>0</td>\n",
       "      <td>{'retweet_count': 35, 'reply_count': 9, 'like_...</td>\n",
       "      <td>['258919048455270401']</td>\n",
       "      <td>{'hashtags': [{'start': 100, 'end': 108, 'tag'...</td>\n",
       "      <td>en</td>\n",
       "      <td>2012-10-18T13:14:46.000Z</td>\n",
       "      <td>False</td>\n",
       "      <td>258919048455270400.0</td>\n",
       "      <td>Look at this regime: They gossip viciously abo...</td>\n",
       "      <td>3.423007e+08</td>\n",
       "      <td>NaN</td>\n",
       "      <td>NaN</td>\n",
       "      <td>1</td>\n",
       "      <td>35.0</td>\n",
       "      <td>9.0</td>\n",
       "      <td>11.0</td>\n",
       "      <td>0.0</td>\n",
       "    </tr>\n",
       "    <tr>\n",
       "      <th>1</th>\n",
       "      <td>1</td>\n",
       "      <td>{'retweet_count': 1, 'reply_count': 0, 'like_c...</td>\n",
       "      <td>['310221306102706176']</td>\n",
       "      <td>{'mentions': [{'start': 3, 'end': 12, 'usernam...</td>\n",
       "      <td>pt</td>\n",
       "      <td>2013-03-09T02:51:37.000Z</td>\n",
       "      <td>False</td>\n",
       "      <td>310221306102706176.0</td>\n",
       "      <td>RT @verdazzo: Adeus @HOTWords_BR.</td>\n",
       "      <td>1.010271e+09</td>\n",
       "      <td>{'copyright': False, 'country_codes': ['BR']}</td>\n",
       "      <td>NaN</td>\n",
       "      <td>1</td>\n",
       "      <td>1.0</td>\n",
       "      <td>0.0</td>\n",
       "      <td>0.0</td>\n",
       "      <td>0.0</td>\n",
       "    </tr>\n",
       "    <tr>\n",
       "      <th>2</th>\n",
       "      <td>2</td>\n",
       "      <td>{'retweet_count': 193, 'reply_count': 24, 'lik...</td>\n",
       "      <td>['263737069891878912']</td>\n",
       "      <td>NaN</td>\n",
       "      <td>ru</td>\n",
       "      <td>2012-10-31T20:19:52.000Z</td>\n",
       "      <td>False</td>\n",
       "      <td>263737069891878880.0</td>\n",
       "      <td>Друзья, совершайте суицид, это весело. Я пробо...</td>\n",
       "      <td>1.882079e+07</td>\n",
       "      <td>{'copyright': False, 'country_codes': ['RU']}</td>\n",
       "      <td>NaN</td>\n",
       "      <td>1</td>\n",
       "      <td>193.0</td>\n",
       "      <td>24.0</td>\n",
       "      <td>45.0</td>\n",
       "      <td>2.0</td>\n",
       "    </tr>\n",
       "    <tr>\n",
       "      <th>3</th>\n",
       "      <td>3</td>\n",
       "      <td>{'retweet_count': 45, 'reply_count': 27, 'like...</td>\n",
       "      <td>['367377468870500353']</td>\n",
       "      <td>{'urls': [{'start': 98, 'end': 108, 'url': 'ht...</td>\n",
       "      <td>en</td>\n",
       "      <td>2013-08-13T20:09:48.000Z</td>\n",
       "      <td>True</td>\n",
       "      <td>367377468870500416.0</td>\n",
       "      <td>This Tweet from @PerezHilton has been withheld...</td>\n",
       "      <td>1.932939e+07</td>\n",
       "      <td>{'copyright': True, 'country_codes': ['XY'], '...</td>\n",
       "      <td>NaN</td>\n",
       "      <td>1</td>\n",
       "      <td>45.0</td>\n",
       "      <td>27.0</td>\n",
       "      <td>21.0</td>\n",
       "      <td>0.0</td>\n",
       "    </tr>\n",
       "    <tr>\n",
       "      <th>4</th>\n",
       "      <td>4</td>\n",
       "      <td>{'retweet_count': 45, 'reply_count': 0, 'like_...</td>\n",
       "      <td>['367433458140053504']</td>\n",
       "      <td>NaN</td>\n",
       "      <td>en</td>\n",
       "      <td>2013-08-13T23:52:17.000Z</td>\n",
       "      <td>False</td>\n",
       "      <td>367433458140053504.0</td>\n",
       "      <td>This Tweet from @princesitavale has been withh...</td>\n",
       "      <td>2.495303e+07</td>\n",
       "      <td>{'copyright': True, 'country_codes': ['XY'], '...</td>\n",
       "      <td>NaN</td>\n",
       "      <td>1</td>\n",
       "      <td>45.0</td>\n",
       "      <td>0.0</td>\n",
       "      <td>0.0</td>\n",
       "      <td>0.0</td>\n",
       "    </tr>\n",
       "    <tr>\n",
       "      <th>...</th>\n",
       "      <td>...</td>\n",
       "      <td>...</td>\n",
       "      <td>...</td>\n",
       "      <td>...</td>\n",
       "      <td>...</td>\n",
       "      <td>...</td>\n",
       "      <td>...</td>\n",
       "      <td>...</td>\n",
       "      <td>...</td>\n",
       "      <td>...</td>\n",
       "      <td>...</td>\n",
       "      <td>...</td>\n",
       "      <td>...</td>\n",
       "      <td>...</td>\n",
       "      <td>...</td>\n",
       "      <td>...</td>\n",
       "      <td>...</td>\n",
       "    </tr>\n",
       "    <tr>\n",
       "      <th>578948</th>\n",
       "      <td>578948</td>\n",
       "      <td>{'retweet_count': 1815, 'reply_count': 0, 'lik...</td>\n",
       "      <td>['1214389730424631297']</td>\n",
       "      <td>{'mentions': [{'start': 3, 'end': 18, 'usernam...</td>\n",
       "      <td>en</td>\n",
       "      <td>2020-01-07T03:34:08.000Z</td>\n",
       "      <td>False</td>\n",
       "      <td>1214389730424631297</td>\n",
       "      <td>RT @JonathanTurley: Bolton has reaffirmed that...</td>\n",
       "      <td>8.747957e+08</td>\n",
       "      <td>NaN</td>\n",
       "      <td>NaN</td>\n",
       "      <td>0</td>\n",
       "      <td>1815.0</td>\n",
       "      <td>0.0</td>\n",
       "      <td>0.0</td>\n",
       "      <td>0.0</td>\n",
       "    </tr>\n",
       "    <tr>\n",
       "      <th>578949</th>\n",
       "      <td>578949</td>\n",
       "      <td>{'retweet_count': 0, 'reply_count': 0, 'like_c...</td>\n",
       "      <td>['251862733039992832']</td>\n",
       "      <td>{'urls': [{'start': 81, 'end': 101, 'url': 'ht...</td>\n",
       "      <td>en</td>\n",
       "      <td>2012-09-29T01:55:29.000Z</td>\n",
       "      <td>False</td>\n",
       "      <td>251862733039992832</td>\n",
       "      <td>Record rainfall in Midland, TX today with more...</td>\n",
       "      <td>1.566550e+07</td>\n",
       "      <td>NaN</td>\n",
       "      <td>NaN</td>\n",
       "      <td>0</td>\n",
       "      <td>0.0</td>\n",
       "      <td>0.0</td>\n",
       "      <td>0.0</td>\n",
       "      <td>0.0</td>\n",
       "    </tr>\n",
       "    <tr>\n",
       "      <th>578950</th>\n",
       "      <td>578950</td>\n",
       "      <td>{'retweet_count': 1, 'reply_count': 0, 'like_c...</td>\n",
       "      <td>['267581939714764800']</td>\n",
       "      <td>{'urls': [{'start': 24, 'end': 44, 'url': 'htt...</td>\n",
       "      <td>es</td>\n",
       "      <td>2012-11-11T10:58:00.000Z</td>\n",
       "      <td>False</td>\n",
       "      <td>267581939714764800</td>\n",
       "      <td>Ciencia y Razón is out! http://t.co/xxbvpOUC ▸...</td>\n",
       "      <td>1.593835e+07</td>\n",
       "      <td>NaN</td>\n",
       "      <td>NaN</td>\n",
       "      <td>0</td>\n",
       "      <td>1.0</td>\n",
       "      <td>0.0</td>\n",
       "      <td>1.0</td>\n",
       "      <td>0.0</td>\n",
       "    </tr>\n",
       "    <tr>\n",
       "      <th>578951</th>\n",
       "      <td>578951</td>\n",
       "      <td>{'retweet_count': 30, 'reply_count': 0, 'like_...</td>\n",
       "      <td>['287574899848011777']</td>\n",
       "      <td>{'mentions': [{'start': 3, 'end': 10, 'usernam...</td>\n",
       "      <td>en</td>\n",
       "      <td>2013-01-05T15:02:53.000Z</td>\n",
       "      <td>False</td>\n",
       "      <td>287574899848011777</td>\n",
       "      <td>RT @nypost: Middle-aged Brooklyn man so upset ...</td>\n",
       "      <td>3.410274e+08</td>\n",
       "      <td>NaN</td>\n",
       "      <td>NaN</td>\n",
       "      <td>0</td>\n",
       "      <td>30.0</td>\n",
       "      <td>0.0</td>\n",
       "      <td>0.0</td>\n",
       "      <td>0.0</td>\n",
       "    </tr>\n",
       "    <tr>\n",
       "      <th>578952</th>\n",
       "      <td>578952</td>\n",
       "      <td>{'retweet_count': 1316, 'reply_count': 0, 'lik...</td>\n",
       "      <td>['280441202430582784']</td>\n",
       "      <td>{'mentions': [{'start': 3, 'end': 18, 'usernam...</td>\n",
       "      <td>es</td>\n",
       "      <td>2012-12-16T22:36:07.000Z</td>\n",
       "      <td>False</td>\n",
       "      <td>280441202430582784</td>\n",
       "      <td>RT @2010MisterChip: #OJOALDATO - El Barça le s...</td>\n",
       "      <td>5.620389e+07</td>\n",
       "      <td>NaN</td>\n",
       "      <td>NaN</td>\n",
       "      <td>0</td>\n",
       "      <td>1316.0</td>\n",
       "      <td>0.0</td>\n",
       "      <td>0.0</td>\n",
       "      <td>0.0</td>\n",
       "    </tr>\n",
       "  </tbody>\n",
       "</table>\n",
       "<p>578953 rows × 17 columns</p>\n",
       "</div>"
      ],
      "text/plain": [
       "        Unnamed: 0                                     public_metrics  \\\n",
       "0                0  {'retweet_count': 35, 'reply_count': 9, 'like_...   \n",
       "1                1  {'retweet_count': 1, 'reply_count': 0, 'like_c...   \n",
       "2                2  {'retweet_count': 193, 'reply_count': 24, 'lik...   \n",
       "3                3  {'retweet_count': 45, 'reply_count': 27, 'like...   \n",
       "4                4  {'retweet_count': 45, 'reply_count': 0, 'like_...   \n",
       "...            ...                                                ...   \n",
       "578948      578948  {'retweet_count': 1815, 'reply_count': 0, 'lik...   \n",
       "578949      578949  {'retweet_count': 0, 'reply_count': 0, 'like_c...   \n",
       "578950      578950  {'retweet_count': 1, 'reply_count': 0, 'like_c...   \n",
       "578951      578951  {'retweet_count': 30, 'reply_count': 0, 'like_...   \n",
       "578952      578952  {'retweet_count': 1316, 'reply_count': 0, 'lik...   \n",
       "\n",
       "         edit_history_tweet_ids  \\\n",
       "0        ['258919048455270401']   \n",
       "1        ['310221306102706176']   \n",
       "2        ['263737069891878912']   \n",
       "3        ['367377468870500353']   \n",
       "4        ['367433458140053504']   \n",
       "...                         ...   \n",
       "578948  ['1214389730424631297']   \n",
       "578949   ['251862733039992832']   \n",
       "578950   ['267581939714764800']   \n",
       "578951   ['287574899848011777']   \n",
       "578952   ['280441202430582784']   \n",
       "\n",
       "                                                 entities lang  \\\n",
       "0       {'hashtags': [{'start': 100, 'end': 108, 'tag'...   en   \n",
       "1       {'mentions': [{'start': 3, 'end': 12, 'usernam...   pt   \n",
       "2                                                     NaN   ru   \n",
       "3       {'urls': [{'start': 98, 'end': 108, 'url': 'ht...   en   \n",
       "4                                                     NaN   en   \n",
       "...                                                   ...  ...   \n",
       "578948  {'mentions': [{'start': 3, 'end': 18, 'usernam...   en   \n",
       "578949  {'urls': [{'start': 81, 'end': 101, 'url': 'ht...   en   \n",
       "578950  {'urls': [{'start': 24, 'end': 44, 'url': 'htt...   es   \n",
       "578951  {'mentions': [{'start': 3, 'end': 10, 'usernam...   en   \n",
       "578952  {'mentions': [{'start': 3, 'end': 18, 'usernam...   es   \n",
       "\n",
       "                      created_at possibly_sensitive                    id  \\\n",
       "0       2012-10-18T13:14:46.000Z              False  258919048455270400.0   \n",
       "1       2013-03-09T02:51:37.000Z              False  310221306102706176.0   \n",
       "2       2012-10-31T20:19:52.000Z              False  263737069891878880.0   \n",
       "3       2013-08-13T20:09:48.000Z               True  367377468870500416.0   \n",
       "4       2013-08-13T23:52:17.000Z              False  367433458140053504.0   \n",
       "...                          ...                ...                   ...   \n",
       "578948  2020-01-07T03:34:08.000Z              False   1214389730424631297   \n",
       "578949  2012-09-29T01:55:29.000Z              False    251862733039992832   \n",
       "578950  2012-11-11T10:58:00.000Z              False    267581939714764800   \n",
       "578951  2013-01-05T15:02:53.000Z              False    287574899848011777   \n",
       "578952  2012-12-16T22:36:07.000Z              False    280441202430582784   \n",
       "\n",
       "                                                     text     author_id  \\\n",
       "0       Look at this regime: They gossip viciously abo...  3.423007e+08   \n",
       "1                       RT @verdazzo: Adeus @HOTWords_BR.  1.010271e+09   \n",
       "2       Друзья, совершайте суицид, это весело. Я пробо...  1.882079e+07   \n",
       "3       This Tweet from @PerezHilton has been withheld...  1.932939e+07   \n",
       "4       This Tweet from @princesitavale has been withh...  2.495303e+07   \n",
       "...                                                   ...           ...   \n",
       "578948  RT @JonathanTurley: Bolton has reaffirmed that...  8.747957e+08   \n",
       "578949  Record rainfall in Midland, TX today with more...  1.566550e+07   \n",
       "578950  Ciencia y Razón is out! http://t.co/xxbvpOUC ▸...  1.593835e+07   \n",
       "578951  RT @nypost: Middle-aged Brooklyn man so upset ...  3.410274e+08   \n",
       "578952  RT @2010MisterChip: #OJOALDATO - El Barça le s...  5.620389e+07   \n",
       "\n",
       "                                                 withheld  geo  censored  \\\n",
       "0                                                     NaN  NaN         1   \n",
       "1           {'copyright': False, 'country_codes': ['BR']}  NaN         1   \n",
       "2           {'copyright': False, 'country_codes': ['RU']}  NaN         1   \n",
       "3       {'copyright': True, 'country_codes': ['XY'], '...  NaN         1   \n",
       "4       {'copyright': True, 'country_codes': ['XY'], '...  NaN         1   \n",
       "...                                                   ...  ...       ...   \n",
       "578948                                                NaN  NaN         0   \n",
       "578949                                                NaN  NaN         0   \n",
       "578950                                                NaN  NaN         0   \n",
       "578951                                                NaN  NaN         0   \n",
       "578952                                                NaN  NaN         0   \n",
       "\n",
       "        retweet_count  reply_count  like_count  quote_count  \n",
       "0                35.0          9.0        11.0          0.0  \n",
       "1                 1.0          0.0         0.0          0.0  \n",
       "2               193.0         24.0        45.0          2.0  \n",
       "3                45.0         27.0        21.0          0.0  \n",
       "4                45.0          0.0         0.0          0.0  \n",
       "...               ...          ...         ...          ...  \n",
       "578948         1815.0          0.0         0.0          0.0  \n",
       "578949            0.0          0.0         0.0          0.0  \n",
       "578950            1.0          0.0         1.0          0.0  \n",
       "578951           30.0          0.0         0.0          0.0  \n",
       "578952         1316.0          0.0         0.0          0.0  \n",
       "\n",
       "[578953 rows x 17 columns]"
      ]
     },
     "execution_count": 10,
     "metadata": {},
     "output_type": "execute_result"
    }
   ],
   "source": [
    "df['retweet_count'] = tmp.apply(lambda row: row['retweet_count'] if type(row) == dict and 'retweet_count' in row else None)\n",
    "df['reply_count'] = tmp.apply(lambda row: row['reply_count'] if type(row) == dict and 'retweet_count' in row else None)\n",
    "df['like_count'] = tmp.apply(lambda row: row['like_count'] if type(row) == dict and 'retweet_count' in row else None)\n",
    "df['quote_count'] = tmp.apply(lambda row: row['quote_count'] if type(row) == dict and 'retweet_count' in row else None)\n",
    "df"
   ]
  },
  {
   "cell_type": "code",
   "execution_count": 11,
   "metadata": {},
   "outputs": [],
   "source": [
    "df.drop(columns=['public_metrics'], inplace=True)\n",
    "df.to_csv('/cluster/project/sachan/jiarliu/censorship/data/dataset_full.csv')"
   ]
  },
  {
   "cell_type": "code",
   "execution_count": 4,
   "metadata": {},
   "outputs": [
    {
     "data": {
      "text/plain": [
       "Index(['Unnamed: 0.1', 'Unnamed: 0', 'edit_history_tweet_ids', 'entities',\n",
       "       'lang', 'created_at', 'possibly_sensitive', 'id', 'text', 'author_id',\n",
       "       'withheld', 'geo', 'censored', 'retweet_count', 'reply_count',\n",
       "       'like_count', 'quote_count'],\n",
       "      dtype='object')"
      ]
     },
     "execution_count": 4,
     "metadata": {},
     "output_type": "execute_result"
    }
   ],
   "source": [
    "df.columns"
   ]
  }
 ],
 "metadata": {
  "environment": {
   "kernel": "conda-base-py",
   "name": "workbench-notebooks.m129",
   "type": "gcloud",
   "uri": "us-docker.pkg.dev/deeplearning-platform-release/gcr.io/workbench-notebooks:m129"
  },
  "kernelspec": {
   "display_name": "Python 3 (ipykernel) (Local)",
   "language": "python",
   "name": "conda-base-py"
  },
  "language_info": {
   "codemirror_mode": {
    "name": "ipython",
    "version": 3
   },
   "file_extension": ".py",
   "mimetype": "text/x-python",
   "name": "python",
   "nbconvert_exporter": "python",
   "pygments_lexer": "ipython3",
   "version": "3.10.16"
  },
  "vscode": {
   "interpreter": {
    "hash": "d173519db91affa0419ef34ac2e0efa9beec21f626fb3d1d701decf56cf78fe8"
   }
  }
 },
 "nbformat": 4,
 "nbformat_minor": 4
}
